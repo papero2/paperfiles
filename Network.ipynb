{
 "cells": [
  {
   "cell_type": "code",
   "execution_count": 1,
   "metadata": {},
   "outputs": [
    {
     "name": "stderr",
     "output_type": "stream",
     "text": [
      "Using TensorFlow backend.\n"
     ]
    }
   ],
   "source": [
    "import numpy as np\n",
    "import matplotlib.pyplot as plt\n",
    "import keras\n",
    "from keras.models import Sequential\n",
    "from keras.layers import Dense, Activation, Dropout, Flatten, Conv1D, MaxPooling1D, GlobalAveragePooling1D, BatchNormalization\n",
    "from keras.losses import categorical_crossentropy, binary_crossentropy, mse\n",
    "from sklearn.model_selection import GroupShuffleSplit\n",
    "from sklearn.utils import class_weight\n",
    "from sklearn.metrics import roc_curve, roc_auc_score, auc, accuracy_score\n",
    "import sklearn\n",
    "from keras.callbacks import EarlyStopping, ModelCheckpoint\n",
    "from keras import regularizers"
   ]
  },
  {
   "cell_type": "markdown",
   "metadata": {},
   "source": [
    "### Training Set"
   ]
  },
  {
   "cell_type": "code",
   "execution_count": 24,
   "metadata": {},
   "outputs": [
    {
     "name": "stdout",
     "output_type": "stream",
     "text": [
      "number of training samples: 34320\n",
      "number of testing samples: 2204\n"
     ]
    }
   ],
   "source": [
    "X, X_test = np.load('datasets/X.npy'), np.load('datasets/X_test.npy')\n",
    "Y, Y_test = np.load('datasets/Y.npy'), np.load('datasets/Y_test.npy')\n",
    "groups, groups_test = np.load('datasets/groups.npy'), np.load('datasets/groups_test.npy')\n",
    "print(\"number of training samples:\", len(X))\n",
    "print(\"number of testing samples:\", len(X_test))"
   ]
  },
  {
   "cell_type": "markdown",
   "metadata": {},
   "source": [
    "#### Plot input"
   ]
  },
  {
   "cell_type": "code",
   "execution_count": 26,
   "metadata": {},
   "outputs": [
    {
     "data": {
      "image/png": "[encoded data removed]",
      "text/plain": [
       "<Figure size 216x216 with 1 Axes>"
      ]
     },
     "metadata": {
      "needs_background": "light"
     },
     "output_type": "display_data"
    }
   ],
   "source": [
    "def plot_input(input_nr):\n",
    "    fig = plt.figure(figsize=(3, 3))\n",
    "    plt.plot(X[input_nr-1,0,:], color='b')\n",
    "    plt.plot(X[input_nr-1,1,:], color='r')\n",
    "    plt.plot(X[input_nr-1,2,:], color='g')\n",
    "    plt.ylim([-1.05, 4.05])\n",
    "    plt.title(\"Input %d\" %input_nr)\n",
    "    plt.show()\n",
    "\n",
    "plot_input(3)"
   ]
  },
  {
   "cell_type": "markdown",
   "metadata": {},
   "source": [
    "#### Baseline Accuracy"
   ]
  },
  {
   "cell_type": "code",
   "execution_count": 61,
   "metadata": {},
   "outputs": [
    {
     "name": "stdout",
     "output_type": "stream",
     "text": [
      "Baseline accuracy: 0.9727272727272728\n"
     ]
    }
   ],
   "source": [
    "Baseline_accuracy = Y[Y[:,1]==0].sum()/len(Y)\n",
    "print(\"Baseline accuracy:\", Baseline_accuracy)"
   ]
  },
  {
   "cell_type": "markdown",
   "metadata": {},
   "source": [
    "#### Choose window size"
   ]
  },
  {
   "cell_type": "code",
   "execution_count": 28,
   "metadata": {},
   "outputs": [],
   "source": [
    "window_size=65\n",
    "X, X_test = X[:,:,0:window_size], X_test[:,:,0:window_size]"
   ]
  },
  {
   "cell_type": "markdown",
   "metadata": {},
   "source": [
    "#### Split training set"
   ]
  },
  {
   "cell_type": "code",
   "execution_count": 29,
   "metadata": {},
   "outputs": [],
   "source": [
    "cv = GroupShuffleSplit(n_splits=1, test_size=0.5)\n",
    "train, valid = next(cv.split(X, Y, groups))"
   ]
  },
  {
   "cell_type": "code",
   "execution_count": 30,
   "metadata": {},
   "outputs": [],
   "source": [
    "datasets = [\"Training\", \"Validation\", \"Testing\"]\n",
    "inputs = [X[train], X[valid], X_test]\n",
    "targets = [Y[train], Y[valid], Y_test]\n",
    "groups_all = [groups[train], groups[valid], groups_test]"
   ]
  },
  {
   "cell_type": "code",
   "execution_count": 31,
   "metadata": {},
   "outputs": [
    {
     "name": "stdout",
     "output_type": "stream",
     "text": [
      "Training\n",
      "nr scuotimenti: 6\n",
      "nr pallonate: 2 \n",
      "\n",
      "Validation\n",
      "nr scuotimenti: 5\n",
      "nr pallonate: 1 \n",
      "\n",
      "Testing\n",
      "nr scuotimenti: 2\n",
      "nr pallonate: 2 \n",
      "\n"
     ]
    }
   ],
   "source": [
    "scuotimenti = [184, 185, 186, 191, 1211, 1212, 1213, 1214, 1215, 1216, 1219, 1220, 1506]\n",
    "pallonate = [139, 140, 1507, 1508, 1510, 1511, 1513, 1514, 2139, 2140, 4139, 6139, 8139, 10139] \n",
    "for i in range(len(inputs)):\n",
    "    print(datasets[i])\n",
    "    print(\"nr scuotimenti:\", np.isin(np.unique(groups_all[i]), scuotimenti).sum())\n",
    "    print(\"nr pallonate:\", np.isin(np.unique(groups_all[i]), pallonate).sum(), \"\\n\")"
   ]
  },
  {
   "cell_type": "markdown",
   "metadata": {},
   "source": [
    "### Train Neural Network"
   ]
  },
  {
   "cell_type": "markdown",
   "metadata": {},
   "source": [
    "#### Create networks"
   ]
  },
  {
   "cell_type": "code",
   "execution_count": 69,
   "metadata": {},
   "outputs": [],
   "source": [
    "def double_dense():\n",
    "    model = Sequential()\n",
    "    model.add(Dense(64, input_shape=(window_size*3,)))\n",
    "    model.add(Activation('relu'))\n",
    "    model.add(Dense(2)) \n",
    "    model.add(Activation('softmax'))\n",
    "    model.compile(loss=categorical_crossentropy, optimizer='Adam', metrics=['accuracy'])\n",
    "    return model\n",
    "\n",
    "def dropout_model():\n",
    "    model = Sequential()\n",
    "    model.add(Dense(128, kernel_regularizer=regularizers.l2(0.01), activity_regularizer=regularizers.l1(0.01), input_shape=(window_size*3,)))\n",
    "    model.add(Activation('relu'))\n",
    "    model.add(Dropout(0.2))\n",
    "    model.add(Dense(2)) \n",
    "    model.add(Activation('softmax'))\n",
    "    model.compile(loss=categorical_crossentropy, optimizer='Adam', metrics=['accuracy'])\n",
    "    return model\n",
    "\n",
    "def BN_model1():\n",
    "    model = Sequential()\n",
    "    model.add(Dense(64, input_shape=(window_size*3,)))\n",
    "    model.add(BatchNormalization(momentum=0.99, epsilon=0.001))\n",
    "    model.add(Activation('relu'))\n",
    "    model.add(Dense(2)) \n",
    "    model.add(BatchNormalization(momentum=0.99, epsilon=0.001))\n",
    "    model.add(Activation('softmax'))\n",
    "    model.compile(loss=categorical_crossentropy, optimizer='Adam', metrics=['accuracy'])\n",
    "    return model\n",
    "\n",
    "def CNN_model():\n",
    "    model = Sequential()\n",
    "    model.add(Conv1D(5, 9, input_shape=(window_size*3, 1)))\n",
    "    model.add(Activation('relu'))\n",
    "    model.add(MaxPooling1D(4))\n",
    "    model.add(Flatten())\n",
    "    model.add(Dense(8))\n",
    "    model.add(BatchNormalization(momentum=0.99, epsilon=0.001))\n",
    "    model.add(Activation('relu'))\n",
    "    model.add(Dense(2))\n",
    "    model.add(BatchNormalization(momentum=0.99, epsilon=0.001))\n",
    "    model.add(Activation('softmax'))\n",
    "    model.compile(loss=categorical_crossentropy, optimizer='rmsprop', metrics=['accuracy'])\n",
    "    return model\n",
    "\n",
    "def CNN_leCun():\n",
    "    model = Sequential()\n",
    "    model.add(Conv1D(5, 5, input_shape=(window_size*3, 1)))\n",
    "    model.add(Activation('relu'))\n",
    "    model.add(MaxPooling1D(2))\n",
    "    model.add(Conv1D(5, 5))\n",
    "    model.add(Activation('relu'))\n",
    "    model.add(MaxPooling1D(2))\n",
    "    model.add(Conv1D(20, 5, input_shape=(window_size*3, 1)))\n",
    "    model.add(Activation('relu'))\n",
    "    model.add(MaxPooling1D(4))\n",
    "    model.add(Flatten())\n",
    "    model.add(Dense(24))\n",
    "    model.add(Activation('relu'))\n",
    "    model.add(Dense(2))\n",
    "    model.add(Activation('softmax'))\n",
    "    model.compile(loss=categorical_crossentropy, optimizer='rmsprop', metrics=['accuracy'])\n",
    "    return model\n",
    "\n",
    "def CNN_model3():\n",
    "    model = Sequential()\n",
    "    model.add(Conv1D(10, 10, input_shape=(window_size*3, 1)))\n",
    "    model.add(BatchNormalization(momentum=0.99, epsilon=0.001))\n",
    "    model.add(Activation('relu'))\n",
    "    model.add(Conv1D(10, 10, input_shape=(window_size*3, 1)))\n",
    "    model.add(BatchNormalization(momentum=0.99, epsilon=0.001))\n",
    "    model.add(Activation('relu'))\n",
    "    model.add(MaxPooling1D(3))\n",
    "    model.add(Conv1D(10, 10, input_shape=(window_size*3, 1)))\n",
    "    model.add(BatchNormalization(momentum=0.99, epsilon=0.001))\n",
    "    model.add(Activation('relu'))\n",
    "    model.add(Conv1D(10, 10, input_shape=(window_size*3, 1)))\n",
    "    model.add(BatchNormalization(momentum=0.99, epsilon=0.001))\n",
    "    model.add(Activation('relu'))\n",
    "    model.add(GlobalAveragePooling1D())\n",
    "    model.add(Dropout(0.5))\n",
    "    model.add(Dense(2))\n",
    "    model.add(BatchNormalization(momentum=0.99, epsilon=0.001))\n",
    "    model.add(Activation('softmax'))    \n",
    "    model.compile(loss=categorical_crossentropy, optimizer='rmsprop', metrics=['accuracy'])\n",
    "    return model\n",
    "#    print(model_m.summary())\n",
    "\n",
    "model1 = double_dense()\n",
    "model2 = dropout_model()\n",
    "model3 = BN_model1()\n",
    "model4 = CNN_model()\n",
    "model_new = CNN_leCun()\n",
    "model6 = CNN_model3()"
   ]
  },
  {
   "cell_type": "markdown",
   "metadata": {},
   "source": [
    "#### Choose model"
   ]
  },
  {
   "cell_type": "code",
   "execution_count": null,
   "metadata": {},
   "outputs": [],
   "source": [
    "model = model5\n",
    "#model = keras.models.load_model(\"models/super_best.model\")"
   ]
  },
  {
   "cell_type": "markdown",
   "metadata": {},
   "source": [
    "#### Train Model On Training Set Only"
   ]
  },
  {
   "cell_type": "code",
   "execution_count": 35,
   "metadata": {},
   "outputs": [],
   "source": [
    "# Useful function to train models\n",
    "def shape(X):\n",
    "    return tuple([len(X)] + list(model_new.input_shape)[1:])"
   ]
  },
  {
   "cell_type": "code",
   "execution_count": 70,
   "metadata": {},
   "outputs": [
    {
     "name": "stdout",
     "output_type": "stream",
     "text": [
      "Train on 11996 samples, validate on 22324 samples\n",
      "Epoch 1/50\n",
      "11996/11996 [==============================] - 23s 2ms/step - loss: 0.1474 - acc: 0.9551 - val_loss: 0.0339 - val_acc: 0.9851\n",
      "Epoch 2/50\n",
      "11996/11996 [==============================] - 21s 2ms/step - loss: 0.0723 - acc: 0.9744 - val_loss: 0.0331 - val_acc: 0.9885\n",
      "Epoch 3/50\n",
      "11996/11996 [==============================] - 21s 2ms/step - loss: 0.0392 - acc: 0.9864 - val_loss: 0.0090 - val_acc: 0.9962\n",
      "Epoch 4/50\n",
      "11996/11996 [==============================] - 21s 2ms/step - loss: 0.0254 - acc: 0.9914 - val_loss: 0.0312 - val_acc: 0.9917\n"
     ]
    }
   ],
   "source": [
    "epochs = 50\n",
    "cw = class_weight.compute_class_weight('balanced', np.unique(np.argmax(Y[train], axis=1)), np.argmax(Y[train], axis=1))\n",
    "callback = keras.callbacks.EarlyStopping(monitor='val_loss', min_delta=0, restore_best_weights=True, patience=1, verbose=0, mode='auto')\n",
    "\n",
    "history = model_new.fit(\n",
    "    X[train].reshape(shape(X[train])), \n",
    "    Y[train], \n",
    "    callbacks=[callback], \n",
    "    epochs=epochs, \n",
    "    batch_size=32, \n",
    "    validation_data = [X[valid].reshape(shape(X[valid])), \n",
    "    Y[valid]], \n",
    "    class_weight=cw,\n",
    "    verbose=1)"
   ]
  },
  {
   "cell_type": "markdown",
   "metadata": {},
   "source": [
    "## Evaluate Model"
   ]
  },
  {
   "cell_type": "markdown",
   "metadata": {},
   "source": [
    "#### Compute Accuracy"
   ]
  },
  {
   "cell_type": "code",
   "execution_count": 37,
   "metadata": {},
   "outputs": [
    {
     "name": "stdout",
     "output_type": "stream",
     "text": [
      "11996/11996 [==============================] - 5s 394us/step\n",
      "Accuracy: 0.988162720906969\n",
      "22324/22324 [==============================] - 9s 398us/step\n",
      "Accuracy: 0.9961924386310697\n",
      "2204/2204 [==============================] - 1s 344us/step\n",
      "Accuracy: 0.9650635208711433\n"
     ]
    }
   ],
   "source": [
    "def accuracy(X, Y):\n",
    "    accuracy = model.evaluate(X.reshape(shape(X)), Y)[1]\n",
    "    print (\"Accuracy:\", accuracy)\n",
    "\n",
    "for i in range(len(inputs)):\n",
    "    accuracy(inputs[i], targets[i])"
   ]
  },
  {
   "cell_type": "markdown",
   "metadata": {},
   "source": [
    "#### Compute Confusion matrix"
   ]
  },
  {
   "cell_type": "code",
   "execution_count": 38,
   "metadata": {},
   "outputs": [
    {
     "name": "stdout",
     "output_type": "stream",
     "text": [
      "Confusion matrix:\n",
      " [[11324   100]\n",
      " [   42   530]]\n",
      "Confusion matrix:\n",
      " [[21960     0]\n",
      " [   85   279]]\n",
      "Confusion matrix:\n",
      " [[1684    0]\n",
      " [  77  443]]\n"
     ]
    }
   ],
   "source": [
    "def conf_mat(inputs, targets):\n",
    "    X = np.argmax(model.predict(inputs.reshape(shape(inputs))), axis=1)\n",
    "    Y = np.argmax(targets, axis=1)\n",
    "    print (\"Confusion matrix:\\n\", sklearn.metrics.confusion_matrix(Y, X))\n",
    "\n",
    "for i in range(len(inputs)):\n",
    "    conf_mat(inputs[i], targets[i])"
   ]
  },
  {
   "cell_type": "markdown",
   "metadata": {},
   "source": [
    "#### Compute ROC"
   ]
  },
  {
   "cell_type": "code",
   "execution_count": 45,
   "metadata": {},
   "outputs": [
    {
     "data": {
      "image/png": "[encoded data removed]",
      "text/plain": [
       "<Figure size 432x288 with 1 Axes>"
      ]
     },
     "metadata": {
      "needs_background": "light"
     },
     "output_type": "display_data"
    },
    {
     "data": {
      "image/png": "[encoded data removed]",
      "text/plain": [
       "<Figure size 432x288 with 1 Axes>"
      ]
     },
     "metadata": {
      "needs_background": "light"
     },
     "output_type": "display_data"
    },
    {
     "data": {
      "image/png": "[encoded data removed]",
      "text/plain": [
       "<Figure size 432x288 with 1 Axes>"
      ]
     },
     "metadata": {
      "needs_background": "light"
     },
     "output_type": "display_data"
    }
   ],
   "source": [
    "def compute_ROC(X, Y):\n",
    "    probas = model.predict(X.reshape(shape(X)))[:, 1]\n",
    "    fpr, tpr, thresholds = roc_curve(np.argmax(Y, axis=1), probas)\n",
    "    roc_auc = auc(fpr, tpr)\n",
    "    plt.plot(fpr, tpr, lw=2, alpha=1, label='AUC = %0.2f' % (roc_auc))\n",
    "    plt.xlim([-0.05, 1.05])\n",
    "    plt.ylim([-0.05, 1.05])\n",
    "    plt.xlabel('False Positive Rate')\n",
    "    plt.ylabel('True Positive Rate')\n",
    "    plt.title('ROC curve') \n",
    "    plt.legend(loc=\"lower right\", bbox_to_anchor=(1.65, 0))\n",
    "    plt.show()\n",
    "\n",
    "for i in range(len(inputs)):\n",
    "    compute_ROC(inputs[i], targets[i])"
   ]
  },
  {
   "cell_type": "markdown",
   "metadata": {},
   "source": [
    "#### ROC on Events"
   ]
  },
  {
   "cell_type": "code",
   "execution_count": 39,
   "metadata": {},
   "outputs": [
    {
     "name": "stdout",
     "output_type": "stream",
     "text": [
      "(26,) (26,)\n"
     ]
    },
    {
     "data": {
      "image/png": "[encoded data removed]",
      "text/plain": [
       "<Figure size 432x288 with 1 Axes>"
      ]
     },
     "metadata": {
      "needs_background": "light"
     },
     "output_type": "display_data"
    },
    {
     "name": "stdout",
     "output_type": "stream",
     "text": [
      "(27,) (27,)\n"
     ]
    },
    {
     "data": {
      "image/png": "[encoded data removed]",
      "text/plain": [
       "<Figure size 432x288 with 1 Axes>"
      ]
     },
     "metadata": {
      "needs_background": "light"
     },
     "output_type": "display_data"
    },
    {
     "name": "stdout",
     "output_type": "stream",
     "text": [
      "(19,) (19,)\n"
     ]
    },
    {
     "data": {
      "image/png": "[encoded data removed]",
      "text/plain": [
       "<Figure size 432x288 with 1 Axes>"
      ]
     },
     "metadata": {
      "needs_background": "light"
     },
     "output_type": "display_data"
    }
   ],
   "source": [
    "from sklearn.utils.fixes import signature\n",
    "\n",
    "def ROC_events(X1, Y1, i):\n",
    "    fpr, tpr, thresholds = roc_curve(Y1, X1, drop_intermediate=False)\n",
    "    A1 = np.where(fpr==0)\n",
    "    A2 = np.where(tpr==1)\n",
    "    A3 = np.intersect1d(A1, A2)\n",
    "    thres = np.round(thresholds, decimals=2)\n",
    "    roc_auc = auc(fpr, tpr)\n",
    "    label = \"thresholds: \\n\"\n",
    "    for j in range(2):\n",
    "        label = label + np.array2string(thres[j+1]) + \"-\" + np.array2string(thres[j]) + \"\\n\"\n",
    "    label = label + \"...\\n\"\n",
    "    label = label + np.array2string(thres[A3+1]) + \"-\" + np.array2string(thres[A3]) + \"\\n\"\n",
    "    label = label + \"...\\n\"\n",
    "    label = label + \"\\nAUC:\" + np.array2string(roc_auc)\n",
    "    step_kwargs = ({'step': 'post'} if 'step' in signature(plt.fill_between).parameters else {})\n",
    "    plt.scatter(fpr*(Y1[:]==0).sum(), tpr*(Y1[:]==1).sum(), color='b', label=label)\n",
    "    plt.xlabel('Falsi allarmi')\n",
    "    plt.ylabel('nr intrusioni rilevate')\n",
    "    plt.ylim([0.0, (Y1[:]==1).sum()+0.5])\n",
    "    plt.xlim([-0.5, (Y1[:]==0).sum()+0.5])\n",
    "    plt.legend(bbox_to_anchor=(1.04,1), loc=\"upper left\")\n",
    "    plt.title('ROC Curve on events of %s set' %datasets[i].lower())\n",
    "    plt.show()\n",
    "\n",
    "for i in range(3):\n",
    "    nr_intrusions = len(np.unique(groups_all[i][targets[i][:,1]==1]))\n",
    "    nr_non_intrusions = len(np.unique(groups_all[i][targets[i][:,1]==0]))\n",
    "    Yev = np.concatenate((np.ones(nr_intrusions), np.zeros(nr_non_intrusions)))\n",
    "    Xev = np.zeros(len(Yev))    \n",
    "    for w, j in enumerate (np.concatenate((np.unique(groups_all[i][targets[i][:,1]==1]), np.unique(groups_all[i][targets[i][:,1]==0])))):\n",
    "        Xev[w] = np.round(np.max(model.predict(inputs[i][groups_all[i]==j].reshape(shape(inputs[i][groups_all[i]==j])))[:,1]), decimals=4)\n",
    "    ROC_events(Xev, Yev, i)"
   ]
  },
  {
   "cell_type": "markdown",
   "metadata": {},
   "source": [
    "## Final Training"
   ]
  },
  {
   "cell_type": "code",
   "execution_count": 638,
   "metadata": {},
   "outputs": [
    {
     "name": "stdout",
     "output_type": "stream",
     "text": [
      "Epoch 1/100\n",
      "34640/34640 [==============================] - 10s 286us/step - loss: 0.0801 - acc: 0.9747\n",
      "Epoch 2/100\n",
      "34640/34640 [==============================] - 10s 288us/step - loss: 0.0621 - acc: 0.9765\n",
      "Epoch 3/100\n",
      "34640/34640 [==============================] - 9s 264us/step - loss: 0.0543 - acc: 0.9793\n",
      "Epoch 4/100\n",
      "34640/34640 [==============================] - 9s 257us/step - loss: 0.0523 - acc: 0.9798\n",
      "Epoch 5/100\n",
      "34640/34640 [==============================] - 9s 259us/step - loss: 0.0492 - acc: 0.9812\n",
      "Epoch 6/100\n",
      "34640/34640 [==============================] - 9s 258us/step - loss: 0.0473 - acc: 0.9818\n",
      "Epoch 7/100\n",
      "34640/34640 [==============================] - 10s 276us/step - loss: 0.0437 - acc: 0.9816\n",
      "Epoch 8/100\n",
      "34640/34640 [==============================] - 9s 271us/step - loss: 0.0440 - acc: 0.9828\n",
      "Epoch 9/100\n",
      "34640/34640 [==============================] - 9s 264us/step - loss: 0.0429 - acc: 0.9825\n",
      "Epoch 10/100\n",
      "34640/34640 [==============================] - 9s 258us/step - loss: 0.0420 - acc: 0.9838\n",
      "Epoch 11/100\n",
      "34640/34640 [==============================] - 9s 263us/step - loss: 0.0392 - acc: 0.9845\n",
      "Epoch 12/100\n",
      "34640/34640 [==============================] - 9s 270us/step - loss: 0.0387 - acc: 0.9849\n",
      "Epoch 13/100\n",
      "34640/34640 [==============================] - 9s 274us/step - loss: 0.0399 - acc: 0.9844\n",
      "Epoch 14/100\n",
      "34640/34640 [==============================] - 10s 276us/step - loss: 0.0388 - acc: 0.9850\n",
      "Epoch 15/100\n",
      "34640/34640 [==============================] - 9s 265us/step - loss: 0.0372 - acc: 0.9858\n",
      "Epoch 16/100\n",
      "34640/34640 [==============================] - 9s 265us/step - loss: 0.0390 - acc: 0.9849\n",
      "Epoch 17/100\n",
      "34640/34640 [==============================] - 9s 262us/step - loss: 0.0354 - acc: 0.9861\n",
      "Epoch 18/100\n",
      "34640/34640 [==============================] - 9s 270us/step - loss: 0.0355 - acc: 0.9866\n",
      "Epoch 19/100\n",
      "34640/34640 [==============================] - 9s 265us/step - loss: 0.0347 - acc: 0.9867\n",
      "Epoch 20/100\n",
      "34640/34640 [==============================] - 9s 262us/step - loss: 0.0352 - acc: 0.9863\n",
      "Epoch 21/100\n",
      "34640/34640 [==============================] - 12s 341us/step - loss: 0.0328 - acc: 0.9869\n",
      "Epoch 22/100\n",
      "34640/34640 [==============================] - 10s 280us/step - loss: 0.0323 - acc: 0.9872\n",
      "Epoch 23/100\n",
      "34640/34640 [==============================] - 10s 275us/step - loss: 0.0330 - acc: 0.9873\n",
      "Epoch 24/100\n",
      "34640/34640 [==============================] - 9s 273us/step - loss: 0.0327 - acc: 0.9872\n",
      "Epoch 25/100\n",
      "34640/34640 [==============================] - 10s 275us/step - loss: 0.0336 - acc: 0.9871\n",
      "Epoch 26/100\n",
      "34640/34640 [==============================] - 10s 278us/step - loss: 0.0324 - acc: 0.9875\n",
      "Epoch 27/100\n",
      "34640/34640 [==============================] - 10s 286us/step - loss: 0.0311 - acc: 0.9880\n",
      "Epoch 28/100\n",
      "34640/34640 [==============================] - 9s 272us/step - loss: 0.0302 - acc: 0.9880\n",
      "Epoch 29/100\n",
      "34640/34640 [==============================] - 10s 286us/step - loss: 0.0300 - acc: 0.9888\n",
      "Epoch 30/100\n",
      "34640/34640 [==============================] - 10s 277us/step - loss: 0.0300 - acc: 0.9881\n",
      "Epoch 31/100\n",
      "34640/34640 [==============================] - 10s 287us/step - loss: 0.0288 - acc: 0.9894\n",
      "Epoch 32/100\n",
      "34640/34640 [==============================] - 9s 273us/step - loss: 0.0298 - acc: 0.9886\n",
      "Epoch 33/100\n",
      "34640/34640 [==============================] - 10s 287us/step - loss: 0.0325 - acc: 0.9878\n",
      "Epoch 34/100\n",
      "34640/34640 [==============================] - 10s 275us/step - loss: 0.0288 - acc: 0.9887\n",
      "Epoch 35/100\n",
      "34640/34640 [==============================] - 10s 289us/step - loss: 0.0300 - acc: 0.9882\n",
      "Epoch 36/100\n",
      "34640/34640 [==============================] - 10s 284us/step - loss: 0.0284 - acc: 0.9896\n",
      "Epoch 37/100\n",
      "34640/34640 [==============================] - 10s 275us/step - loss: 0.0271 - acc: 0.9898\n",
      "Epoch 38/100\n",
      "34640/34640 [==============================] - 10s 276us/step - loss: 0.0292 - acc: 0.9891\n",
      "Epoch 39/100\n",
      "34640/34640 [==============================] - 10s 287us/step - loss: 0.0290 - acc: 0.9887\n",
      "Epoch 40/100\n",
      "34640/34640 [==============================] - 10s 284us/step - loss: 0.0272 - acc: 0.9900\n",
      "Epoch 41/100\n",
      "34640/34640 [==============================] - 10s 283us/step - loss: 0.0294 - acc: 0.9886\n",
      "Epoch 42/100\n",
      "34640/34640 [==============================] - 10s 282us/step - loss: 0.0276 - acc: 0.9894\n",
      "Epoch 43/100\n",
      "34640/34640 [==============================] - 10s 284us/step - loss: 0.0277 - acc: 0.9890\n",
      "Epoch 44/100\n",
      "34640/34640 [==============================] - 10s 280us/step - loss: 0.0268 - acc: 0.9899\n",
      "Epoch 45/100\n",
      "34640/34640 [==============================] - 10s 282us/step - loss: 0.0259 - acc: 0.9900\n",
      "Epoch 46/100\n",
      "34640/34640 [==============================] - 10s 284us/step - loss: 0.0256 - acc: 0.9903\n",
      "Epoch 47/100\n",
      "34640/34640 [==============================] - 10s 297us/step - loss: 0.0262 - acc: 0.9901\n",
      "Epoch 48/100\n",
      "34640/34640 [==============================] - 11s 316us/step - loss: 0.0280 - acc: 0.9896\n",
      "Epoch 49/100\n",
      "34640/34640 [==============================] - 12s 351us/step - loss: 0.0278 - acc: 0.9889\n",
      "Epoch 50/100\n",
      "34640/34640 [==============================] - 11s 330us/step - loss: 0.0278 - acc: 0.9897\n",
      "Epoch 51/100\n",
      "34640/34640 [==============================] - 9s 274us/step - loss: 0.0288 - acc: 0.9889\n",
      "Epoch 52/100\n",
      "34640/34640 [==============================] - 9s 267us/step - loss: 0.0271 - acc: 0.9897\n",
      "Epoch 53/100\n",
      "34640/34640 [==============================] - 12s 342us/step - loss: 0.0260 - acc: 0.9895\n",
      "Epoch 54/100\n",
      "34640/34640 [==============================] - 10s 284us/step - loss: 0.0256 - acc: 0.9901\n",
      "Epoch 55/100\n",
      "34640/34640 [==============================] - 9s 249us/step - loss: 0.0247 - acc: 0.9909\n",
      "Epoch 56/100\n",
      "34640/34640 [==============================] - 9s 256us/step - loss: 0.0269 - acc: 0.9905\n",
      "Epoch 57/100\n",
      "34640/34640 [==============================] - 9s 271us/step - loss: 0.0259 - acc: 0.9904\n",
      "Epoch 58/100\n",
      "34640/34640 [==============================] - 9s 260us/step - loss: 0.0247 - acc: 0.9905\n",
      "Epoch 59/100\n",
      "34640/34640 [==============================] - 9s 253us/step - loss: 0.0264 - acc: 0.9900\n",
      "Epoch 60/100\n",
      "34640/34640 [==============================] - 9s 255us/step - loss: 0.0249 - acc: 0.9903\n",
      "Epoch 61/100\n",
      "34640/34640 [==============================] - 10s 296us/step - loss: 0.0254 - acc: 0.9907\n",
      "Epoch 62/100\n",
      "34640/34640 [==============================] - 11s 320us/step - loss: 0.0253 - acc: 0.9899\n",
      "Epoch 63/100\n",
      "34640/34640 [==============================] - 10s 289us/step - loss: 0.0252 - acc: 0.9907\n",
      "Epoch 64/100\n",
      "34640/34640 [==============================] - 11s 315us/step - loss: 0.0249 - acc: 0.9903\n",
      "Epoch 65/100\n",
      "34640/34640 [==============================] - 9s 269us/step - loss: 0.0245 - acc: 0.9906\n",
      "Epoch 66/100\n",
      "34640/34640 [==============================] - 10s 286us/step - loss: 0.0244 - acc: 0.9908\n",
      "Epoch 67/100\n",
      "34640/34640 [==============================] - 9s 257us/step - loss: 0.0227 - acc: 0.9907\n",
      "Epoch 68/100\n",
      "34640/34640 [==============================] - 11s 303us/step - loss: 0.0247 - acc: 0.9904\n",
      "Epoch 69/100\n",
      "34640/34640 [==============================] - 9s 269us/step - loss: 0.0263 - acc: 0.9899\n",
      "Epoch 70/100\n",
      "34640/34640 [==============================] - 9s 267us/step - loss: 0.0229 - acc: 0.9913\n",
      "Epoch 71/100\n",
      "34640/34640 [==============================] - 9s 266us/step - loss: 0.0257 - acc: 0.9902\n",
      "Epoch 72/100\n",
      "34640/34640 [==============================] - 9s 264us/step - loss: 0.0257 - acc: 0.9906\n",
      "Epoch 73/100\n",
      "34640/34640 [==============================] - 9s 265us/step - loss: 0.0224 - acc: 0.9912\n",
      "Epoch 74/100\n",
      "34640/34640 [==============================] - 9s 267us/step - loss: 0.0240 - acc: 0.9907\n",
      "Epoch 75/100\n",
      "34640/34640 [==============================] - 9s 268us/step - loss: 0.0217 - acc: 0.9919\n",
      "Epoch 76/100\n",
      "34640/34640 [==============================] - 9s 264us/step - loss: 0.0251 - acc: 0.9904\n",
      "Epoch 77/100\n",
      "34640/34640 [==============================] - 9s 265us/step - loss: 0.0233 - acc: 0.9912\n",
      "Epoch 78/100\n",
      "34640/34640 [==============================] - 9s 266us/step - loss: 0.0223 - acc: 0.9915\n",
      "Epoch 79/100\n",
      "34640/34640 [==============================] - 11s 315us/step - loss: 0.0241 - acc: 0.9909\n",
      "Epoch 80/100\n",
      "34640/34640 [==============================] - 9s 257us/step - loss: 0.0218 - acc: 0.9922\n",
      "Epoch 81/100\n",
      "34640/34640 [==============================] - 9s 257us/step - loss: 0.0220 - acc: 0.9917\n",
      "Epoch 82/100\n",
      "34640/34640 [==============================] - 9s 264us/step - loss: 0.0230 - acc: 0.9916\n",
      "Epoch 83/100\n",
      "34640/34640 [==============================] - 9s 260us/step - loss: 0.0244 - acc: 0.9910\n",
      "Epoch 84/100\n",
      "34640/34640 [==============================] - 9s 259us/step - loss: 0.0227 - acc: 0.9915\n",
      "Epoch 85/100\n",
      "34640/34640 [==============================] - 9s 257us/step - loss: 0.0206 - acc: 0.9923\n",
      "Epoch 86/100\n",
      "34640/34640 [==============================] - 9s 258us/step - loss: 0.0221 - acc: 0.9919\n",
      "Epoch 87/100\n",
      "34640/34640 [==============================] - 9s 256us/step - loss: 0.0212 - acc: 0.9922\n",
      "Epoch 88/100\n",
      "34640/34640 [==============================] - 9s 258us/step - loss: 0.0219 - acc: 0.9921\n",
      "Epoch 89/100\n",
      "34640/34640 [==============================] - 9s 256us/step - loss: 0.0212 - acc: 0.9922\n",
      "Epoch 90/100\n",
      "34640/34640 [==============================] - 9s 253us/step - loss: 0.0227 - acc: 0.9918\n",
      "Epoch 91/100\n",
      "34640/34640 [==============================] - 9s 258us/step - loss: 0.0222 - acc: 0.9917\n",
      "Epoch 92/100\n",
      "34640/34640 [==============================] - 9s 259us/step - loss: 0.0221 - acc: 0.9913\n",
      "Epoch 93/100\n",
      "34640/34640 [==============================] - 9s 258us/step - loss: 0.0215 - acc: 0.9921\n",
      "Epoch 94/100\n",
      "34640/34640 [==============================] - 11s 314us/step - loss: 0.0223 - acc: 0.9919\n",
      "Epoch 95/100\n",
      "34640/34640 [==============================] - 12s 338us/step - loss: 0.0222 - acc: 0.9921\n",
      "Epoch 00095: early stopping\n"
     ]
    },
    {
     "data": {
      "text/plain": [
       "<keras.callbacks.History at 0x1a3efda208>"
      ]
     },
     "execution_count": 638,
     "metadata": {},
     "output_type": "execute_result"
    }
   ],
   "source": [
    "cw = class_weight.compute_class_weight('balanced', np.unique(np.argmax(Y, axis=1)),np.argmax(Y, axis=1))\n",
    "early = EarlyStopping(monitor='loss', min_delta=0, patience=10, verbose=1, mode='auto', baseline=None)\n",
    "model.fit(X.reshape(shape(X)), Y, epochs=100, callbacks = [early], class_weight=cw, verbose=1)"
   ]
  },
  {
   "cell_type": "code",
   "execution_count": 62,
   "metadata": {},
   "outputs": [
    {
     "ename": "KeyError",
     "evalue": "'Cannot set attribute. Group with name \"keras_version\" exists.'",
     "output_type": "error",
     "traceback": [
      "\u001b[0;31m---------------------------------------------------------------------------\u001b[0m",
      "\u001b[0;31mKeyError\u001b[0m                                  Traceback (most recent call last)",
      "\u001b[0;32m<ipython-input-62-80eaaf769766>\u001b[0m in \u001b[0;36m<module>\u001b[0;34m\u001b[0m\n\u001b[0;32m----> 1\u001b[0;31m \u001b[0mmodel\u001b[0m\u001b[0;34m.\u001b[0m\u001b[0msave\u001b[0m\u001b[0;34m(\u001b[0m\u001b[0;34m'models/super_best3.model'\u001b[0m\u001b[0;34m,\u001b[0m \u001b[0mmodel\u001b[0m\u001b[0;34m)\u001b[0m\u001b[0;34m\u001b[0m\u001b[0;34m\u001b[0m\u001b[0m\n\u001b[0m",
      "\u001b[0;32m~/anaconda3/lib/python3.6/site-packages/keras/engine/network.py\u001b[0m in \u001b[0;36msave\u001b[0;34m(self, filepath, overwrite, include_optimizer)\u001b[0m\n\u001b[1;32m   1088\u001b[0m             \u001b[0;32mraise\u001b[0m \u001b[0mNotImplementedError\u001b[0m\u001b[0;34m\u001b[0m\u001b[0;34m\u001b[0m\u001b[0m\n\u001b[1;32m   1089\u001b[0m         \u001b[0;32mfrom\u001b[0m \u001b[0;34m.\u001b[0m\u001b[0;34m.\u001b[0m\u001b[0mmodels\u001b[0m \u001b[0;32mimport\u001b[0m \u001b[0msave_model\u001b[0m\u001b[0;34m\u001b[0m\u001b[0;34m\u001b[0m\u001b[0m\n\u001b[0;32m-> 1090\u001b[0;31m         \u001b[0msave_model\u001b[0m\u001b[0;34m(\u001b[0m\u001b[0mself\u001b[0m\u001b[0;34m,\u001b[0m \u001b[0mfilepath\u001b[0m\u001b[0;34m,\u001b[0m \u001b[0moverwrite\u001b[0m\u001b[0;34m,\u001b[0m \u001b[0minclude_optimizer\u001b[0m\u001b[0;34m)\u001b[0m\u001b[0;34m\u001b[0m\u001b[0;34m\u001b[0m\u001b[0m\n\u001b[0m\u001b[1;32m   1091\u001b[0m \u001b[0;34m\u001b[0m\u001b[0m\n\u001b[1;32m   1092\u001b[0m     \u001b[0;32mdef\u001b[0m \u001b[0msave_weights\u001b[0m\u001b[0;34m(\u001b[0m\u001b[0mself\u001b[0m\u001b[0;34m,\u001b[0m \u001b[0mfilepath\u001b[0m\u001b[0;34m,\u001b[0m \u001b[0moverwrite\u001b[0m\u001b[0;34m=\u001b[0m\u001b[0;32mTrue\u001b[0m\u001b[0;34m)\u001b[0m\u001b[0;34m:\u001b[0m\u001b[0;34m\u001b[0m\u001b[0;34m\u001b[0m\u001b[0m\n",
      "\u001b[0;32m~/anaconda3/lib/python3.6/site-packages/keras/engine/saving.py\u001b[0m in \u001b[0;36msave_model\u001b[0;34m(model, filepath, overwrite, include_optimizer)\u001b[0m\n\u001b[1;32m    380\u001b[0m \u001b[0;34m\u001b[0m\u001b[0m\n\u001b[1;32m    381\u001b[0m     \u001b[0;32mtry\u001b[0m\u001b[0;34m:\u001b[0m\u001b[0;34m\u001b[0m\u001b[0;34m\u001b[0m\u001b[0m\n\u001b[0;32m--> 382\u001b[0;31m         \u001b[0m_serialize_model\u001b[0m\u001b[0;34m(\u001b[0m\u001b[0mmodel\u001b[0m\u001b[0;34m,\u001b[0m \u001b[0mf\u001b[0m\u001b[0;34m,\u001b[0m \u001b[0minclude_optimizer\u001b[0m\u001b[0;34m)\u001b[0m\u001b[0;34m\u001b[0m\u001b[0;34m\u001b[0m\u001b[0m\n\u001b[0m\u001b[1;32m    383\u001b[0m     \u001b[0;32mfinally\u001b[0m\u001b[0;34m:\u001b[0m\u001b[0;34m\u001b[0m\u001b[0;34m\u001b[0m\u001b[0m\n\u001b[1;32m    384\u001b[0m         \u001b[0;32mif\u001b[0m \u001b[0mopened_new_file\u001b[0m\u001b[0;34m:\u001b[0m\u001b[0;34m\u001b[0m\u001b[0;34m\u001b[0m\u001b[0m\n",
      "\u001b[0;32m~/anaconda3/lib/python3.6/site-packages/keras/engine/saving.py\u001b[0m in \u001b[0;36m_serialize_model\u001b[0;34m(model, f, include_optimizer)\u001b[0m\n\u001b[1;32m     76\u001b[0m     \u001b[0;32mfrom\u001b[0m \u001b[0;34m.\u001b[0m\u001b[0;34m.\u001b[0m \u001b[0;32mimport\u001b[0m \u001b[0m__version__\u001b[0m \u001b[0;32mas\u001b[0m \u001b[0mkeras_version\u001b[0m\u001b[0;34m\u001b[0m\u001b[0;34m\u001b[0m\u001b[0m\n\u001b[1;32m     77\u001b[0m \u001b[0;34m\u001b[0m\u001b[0m\n\u001b[0;32m---> 78\u001b[0;31m     \u001b[0mf\u001b[0m\u001b[0;34m[\u001b[0m\u001b[0;34m'keras_version'\u001b[0m\u001b[0;34m]\u001b[0m \u001b[0;34m=\u001b[0m \u001b[0mstr\u001b[0m\u001b[0;34m(\u001b[0m\u001b[0mkeras_version\u001b[0m\u001b[0;34m)\u001b[0m\u001b[0;34m.\u001b[0m\u001b[0mencode\u001b[0m\u001b[0;34m(\u001b[0m\u001b[0;34m'utf8'\u001b[0m\u001b[0;34m)\u001b[0m\u001b[0;34m\u001b[0m\u001b[0;34m\u001b[0m\u001b[0m\n\u001b[0m\u001b[1;32m     79\u001b[0m     \u001b[0mf\u001b[0m\u001b[0;34m[\u001b[0m\u001b[0;34m'backend'\u001b[0m\u001b[0;34m]\u001b[0m \u001b[0;34m=\u001b[0m \u001b[0mK\u001b[0m\u001b[0;34m.\u001b[0m\u001b[0mbackend\u001b[0m\u001b[0;34m(\u001b[0m\u001b[0;34m)\u001b[0m\u001b[0;34m.\u001b[0m\u001b[0mencode\u001b[0m\u001b[0;34m(\u001b[0m\u001b[0;34m'utf8'\u001b[0m\u001b[0;34m)\u001b[0m\u001b[0;34m\u001b[0m\u001b[0;34m\u001b[0m\u001b[0m\n\u001b[1;32m     80\u001b[0m \u001b[0;34m\u001b[0m\u001b[0m\n",
      "\u001b[0;32m~/anaconda3/lib/python3.6/site-packages/keras/utils/io_utils.py\u001b[0m in \u001b[0;36m__setitem__\u001b[0;34m(self, attr, val)\u001b[0m\n\u001b[1;32m    212\u001b[0m         \u001b[0;32mif\u001b[0m \u001b[0mattr\u001b[0m \u001b[0;32min\u001b[0m \u001b[0mself\u001b[0m\u001b[0;34m:\u001b[0m\u001b[0;34m\u001b[0m\u001b[0;34m\u001b[0m\u001b[0m\n\u001b[1;32m    213\u001b[0m             raise KeyError('Cannot set attribute. '\n\u001b[0;32m--> 214\u001b[0;31m                            'Group with name \"{}\" exists.'.format(attr))\n\u001b[0m\u001b[1;32m    215\u001b[0m         \u001b[0;32mif\u001b[0m \u001b[0mis_np\u001b[0m\u001b[0;34m:\u001b[0m\u001b[0;34m\u001b[0m\u001b[0;34m\u001b[0m\u001b[0m\n\u001b[1;32m    216\u001b[0m             \u001b[0mdataset\u001b[0m \u001b[0;34m=\u001b[0m \u001b[0mself\u001b[0m\u001b[0;34m.\u001b[0m\u001b[0mdata\u001b[0m\u001b[0;34m.\u001b[0m\u001b[0mcreate_dataset\u001b[0m\u001b[0;34m(\u001b[0m\u001b[0mattr\u001b[0m\u001b[0;34m,\u001b[0m \u001b[0mval\u001b[0m\u001b[0;34m.\u001b[0m\u001b[0mshape\u001b[0m\u001b[0;34m,\u001b[0m \u001b[0mdtype\u001b[0m\u001b[0;34m=\u001b[0m\u001b[0mval\u001b[0m\u001b[0;34m.\u001b[0m\u001b[0mdtype\u001b[0m\u001b[0;34m)\u001b[0m\u001b[0;34m\u001b[0m\u001b[0;34m\u001b[0m\u001b[0m\n",
      "\u001b[0;31mKeyError\u001b[0m: 'Cannot set attribute. Group with name \"keras_version\" exists.'"
     ]
    }
   ],
   "source": [
    "model.save('models/super_best3.model', model)"
   ]
  },
  {
   "cell_type": "markdown",
   "metadata": {},
   "source": [
    "## Model Analysis Room"
   ]
  },
  {
   "cell_type": "markdown",
   "metadata": {},
   "source": [
    "#### Predictions of intrusions/non intrusions on training, validation and test set "
   ]
  },
  {
   "cell_type": "code",
   "execution_count": 57,
   "metadata": {},
   "outputs": [
    {
     "name": "stdout",
     "output_type": "stream",
     "text": [
      "68 0.0\n",
      "69 0.0\n",
      "193 0.0\n",
      "1186 0.0\n",
      "1217 0.0\n",
      "1220 0.12\n",
      "1506 0.02\n",
      "1511 0.02\n",
      "1513 0.18\n",
      "[0]\n"
     ]
    }
   ],
   "source": [
    "dataset_nr = 2  \n",
    "target = 0      # 0 = non intrusions; 1 = intrusions\n",
    "b = [0]\n",
    "\n",
    "def print_predictions(dataset_nr, target):\n",
    "    for j in np.unique(groups_all[dataset_nr][targets[dataset_nr][:,1]==target]):\n",
    "        X = inputs[dataset_nr][groups_all[dataset_nr]==j]\n",
    "        a = np.round(model.predict(X.reshape(shape(X)))[:,1], 2)\n",
    "        print(j, np.max(a))\n",
    "print_predictions(dataset_nr, target)\n",
    "print(b)"
   ]
  },
  {
   "cell_type": "markdown",
   "metadata": {},
   "source": [
    "#### Inspect weights"
   ]
  },
  {
   "cell_type": "code",
   "execution_count": 59,
   "metadata": {},
   "outputs": [
    {
     "name": "stdout",
     "output_type": "stream",
     "text": [
      "[[ 0.5 -0.2  0.3 -0.4  0.5]]\n",
      "[[ 0.   0.3 -0.3  0.3  0.1]]\n",
      "[[-0.3 -0.3  0.3  0.5 -0.2]]\n",
      "[[ 0.  -0.4  0.4 -0.5  0.3]]\n",
      "[[-0.6  0.2  0.3  0.4  0. ]]\n"
     ]
    }
   ],
   "source": [
    "W1 = model.layers[0].get_weights()\n",
    "for i in range(5):\n",
    "    print(np.round(W1[0][i],1))"
   ]
  },
  {
   "cell_type": "markdown",
   "metadata": {},
   "source": [
    "### Objectives"
   ]
  },
  {
   "cell_type": "markdown",
   "metadata": {},
   "source": [
    "<input type=\"checkbox\" checked> Should detect 19/20 intrusions on testing set OK <br>\n",
    "<input type=\"checkbox\"> 1 false alarm per year"
   ]
  },
  {
   "cell_type": "code",
   "execution_count": 68,
   "metadata": {},
   "outputs": [],
   "source": []
  },
  {
   "cell_type": "code",
   "execution_count": null,
   "metadata": {},
   "outputs": [],
   "source": []
  }
 ],
 "metadata": {
  "kernelspec": {
   "display_name": "Python 3",
   "language": "python",
   "name": "python3"
  },
  "language_info": {
   "codemirror_mode": {
    "name": "ipython",
    "version": 3
   },
   "file_extension": ".py",
   "mimetype": "text/x-python",
   "name": "python",
   "nbconvert_exporter": "python",
   "pygments_lexer": "ipython3",
   "version": "3.6.8"
  }
 },
 "nbformat": 4,
 "nbformat_minor": 2
}
